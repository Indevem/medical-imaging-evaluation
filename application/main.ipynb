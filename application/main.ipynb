{
 "cells": [
  {
   "cell_type": "code",
   "execution_count": 1,
   "metadata": {},
   "outputs": [],
   "source": [
    "import sys\n",
    "import os\n",
    "\n",
    "from PyQt5 import QtWidgets\n",
    "from PyQt5.QtWidgets import (QMainWindow, QTextEdit,\n",
    "                QAction, QFileDialog, QApplication)\n",
    "from PyQt5.QtCore import QThread, pyqtSignal\n",
    "import cv2\n",
    "\n",
    "import mainwindow"
   ]
  },
  {
   "cell_type": "code",
   "execution_count": 2,
   "metadata": {},
   "outputs": [],
   "source": [
    "class MainWindow(QMainWindow):\n",
    "    \"\"\"Класс описывает поведение главного окна графического интерфейса.\n",
    "    \n",
    "    \"\"\"\n",
    "    def __init__(self):\n",
    "        \"\"\"Конструктор класса.\"\"\"\n",
    "        super(MainWindow, self).__init__()\n",
    "        self.ui = mainwindow.Ui_MainWindow()\n",
    "        self.ui.setupUi(self)\n",
    "        self.path_predicted = \"\"\n",
    "        self.path_expert = \"\"\n",
    "        self.names_list_predicted = []\n",
    "        self.images_list_predicted = []\n",
    "        self.names_list_expert = []\n",
    "        self.images_list_expert = []\n",
    "        self.ui.explore_path_predicted.clicked.connect(self.get_path_predicted)\n",
    "        self.ui.explore_path_expert.clicked.connect(self.get_path_expert)\n",
    "        self.ui.evaluate_button.clicked.connect(self.start_evaluation)\n",
    "        \n",
    "        \n",
    "    def get_path_predicted(self):\n",
    "        \"\"\"Функция получает из проводника путь к папке\n",
    "        с чем там эта папка.\n",
    "        отображает путь в соответствующем\n",
    "        текстовом поле и  делает текстовое \n",
    "        поле недоступным для редактирования\n",
    "        \n",
    "        \"\"\"\n",
    "        self.path_predicted = QFileDialog.getExistingDirectory(self)\n",
    "        self.ui.path_predicted_line.setText(self.path_predicted)\n",
    "        self.ui.path_predicted_line.setReadOnly(True)\n",
    "        \n",
    "    def get_path_expert(self):\n",
    "        \"\"\"Функция получает из проводника путь к папке\n",
    "        с экспертной разметкой изображений, отображает \n",
    "        путь в соответствующем текстовом поле и \n",
    "        делает текстовое поле недоступным \n",
    "        для редактирования.\n",
    "        \n",
    "        \"\"\"\n",
    "        self.path_expert = QFileDialog.getExistingDirectory(self)\n",
    "        self.ui.path_expert_line.setText(self.path_expert)\n",
    "        self.ui.path_expert_line.setReadOnly(True)\n",
    "    \n",
    "    def get_list_of_images(self, path):\n",
    "        \"\"\"Функция принимает на вход путь к директории,\n",
    "        обращается к директории и получает из неё файлы.\n",
    "        Расширение файлов проверяется. Функция возвращает \n",
    "        2 списка: список имён картинок из данной\n",
    "        директории и список самих картинок, преобразованных\n",
    "        в массивы чисел.\n",
    "        \n",
    "        \"\"\"\n",
    "        valid_images = [\".jpg\",\".gif\",\".png\",\".tga\"]\n",
    "        names_list = [] \n",
    "        images_list = []\n",
    "        for file in os.listdir(path):\n",
    "            ext = os.path.splitext(file)[1]\n",
    "            if ext.lower() not in valid_images:\n",
    "                continue\n",
    "            names_list.append(os.path.join(path, file))\n",
    "            images_list.append(cv2.imread(os.path.join(path, file)))\n",
    "        return names_list, images_list\n",
    "    \n",
    "    def start_evaluation(self):\n",
    "        \"\"\"Функция обращается к обученной модели,\n",
    "        передаёт ей массивы данных.\n",
    "        \n",
    "        \"\"\"\n",
    "        self.path_predicted = self.ui.path_predicted_line.text()\n",
    "        self.path_expert = self.ui.path_expert_line.text()\n",
    "        (self.names_list_predicted, \n",
    "             self.images_list_predicted\n",
    "             ) = get_list_of_images(self.path_predicted)\n",
    "        (self.names_list_expert, \n",
    "             self.images_list_expert\n",
    "             ) = get_list_of_images(self.path_expert)"
   ]
  },
  {
   "cell_type": "code",
   "execution_count": null,
   "metadata": {},
   "outputs": [],
   "source": []
  },
  {
   "cell_type": "code",
   "execution_count": 3,
   "metadata": {},
   "outputs": [],
   "source": [
    "def main():\n",
    "    \"\"\"Функция, из которой осуществляется вызов \n",
    "    основного окна приложения\n",
    "    \n",
    "    \"\"\"\n",
    "    app = QtWidgets.QApplication([])\n",
    "    application = MainWindow()\n",
    "    application.show()\n",
    "    sys.exit(app.exec())"
   ]
  },
  {
   "cell_type": "code",
   "execution_count": null,
   "metadata": {},
   "outputs": [
    {
     "ename": "AttributeError",
     "evalue": "'QTextEdit' object has no attribute 'text'",
     "output_type": "error",
     "traceback": [
      "\u001b[1;31m---------------------------------------------------------------------------\u001b[0m",
      "\u001b[1;31mAttributeError\u001b[0m                            Traceback (most recent call last)",
      "\u001b[1;32m<ipython-input-2-48b21e2265fb>\u001b[0m in \u001b[0;36mstart_evaluation\u001b[1;34m(self)\u001b[0m\n\u001b[0;32m     69\u001b[0m         \"\"\"\n\u001b[0;32m     70\u001b[0m         \u001b[0mself\u001b[0m\u001b[1;33m.\u001b[0m\u001b[0mpath_predicted\u001b[0m \u001b[1;33m=\u001b[0m \u001b[0mself\u001b[0m\u001b[1;33m.\u001b[0m\u001b[0mui\u001b[0m\u001b[1;33m.\u001b[0m\u001b[0mpath_predicted_line\u001b[0m\u001b[1;33m.\u001b[0m\u001b[0mtext\u001b[0m\u001b[1;33m(\u001b[0m\u001b[1;33m)\u001b[0m\u001b[1;33m\u001b[0m\u001b[1;33m\u001b[0m\u001b[0m\n\u001b[1;32m---> 71\u001b[1;33m         \u001b[0mself\u001b[0m\u001b[1;33m.\u001b[0m\u001b[0mpath_expert\u001b[0m \u001b[1;33m=\u001b[0m \u001b[0mself\u001b[0m\u001b[1;33m.\u001b[0m\u001b[0mui\u001b[0m\u001b[1;33m.\u001b[0m\u001b[0mpath_expert_line\u001b[0m\u001b[1;33m.\u001b[0m\u001b[0mtext\u001b[0m\u001b[1;33m(\u001b[0m\u001b[1;33m)\u001b[0m\u001b[1;33m\u001b[0m\u001b[1;33m\u001b[0m\u001b[0m\n\u001b[0m\u001b[0;32m     72\u001b[0m         (self.names_list_predicted, \n\u001b[0;32m     73\u001b[0m              \u001b[0mself\u001b[0m\u001b[1;33m.\u001b[0m\u001b[0mimages_list_predicted\u001b[0m\u001b[1;33m\u001b[0m\u001b[1;33m\u001b[0m\u001b[0m\n",
      "\u001b[1;31mAttributeError\u001b[0m: 'QTextEdit' object has no attribute 'text'"
     ]
    }
   ],
   "source": [
    "if __name__ == '__main__':\n",
    "    main()"
   ]
  },
  {
   "cell_type": "code",
   "execution_count": null,
   "metadata": {},
   "outputs": [],
   "source": []
  },
  {
   "cell_type": "code",
   "execution_count": null,
   "metadata": {},
   "outputs": [],
   "source": []
  }
 ],
 "metadata": {
  "kernelspec": {
   "display_name": "Python 3",
   "language": "python",
   "name": "python3"
  },
  "language_info": {
   "codemirror_mode": {
    "name": "ipython",
    "version": 3
   },
   "file_extension": ".py",
   "mimetype": "text/x-python",
   "name": "python",
   "nbconvert_exporter": "python",
   "pygments_lexer": "ipython3",
   "version": "3.8.3"
  }
 },
 "nbformat": 4,
 "nbformat_minor": 4
}
