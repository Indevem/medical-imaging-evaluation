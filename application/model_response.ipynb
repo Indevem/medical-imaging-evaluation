{
 "cells": [
  {
   "cell_type": "code",
   "execution_count": 7,
   "metadata": {},
   "outputs": [
    {
     "ename": "SyntaxError",
     "evalue": "invalid syntax (evaluator.py, line 33)",
     "output_type": "error",
     "traceback": [
      "Traceback \u001b[1;36m(most recent call last)\u001b[0m:\n",
      "  File \u001b[0;32m\"C:\\Users\\anna_\\Anaconda3\\lib\\site-packages\\IPython\\core\\interactiveshell.py\"\u001b[0m, line \u001b[0;32m3343\u001b[0m, in \u001b[0;35mrun_code\u001b[0m\n    exec(code_obj, self.user_global_ns, self.user_ns)\n",
      "\u001b[1;36m  File \u001b[1;32m\"<ipython-input-7-16cf8fe33272>\"\u001b[1;36m, line \u001b[1;32m4\u001b[1;36m, in \u001b[1;35m<module>\u001b[1;36m\u001b[0m\n\u001b[1;33m    from evaluator import Evaluator\u001b[0m\n",
      "\u001b[1;36m  File \u001b[1;32m\"..\\model\\evaluator.py\"\u001b[1;36m, line \u001b[1;32m33\u001b[0m\n\u001b[1;33m    =======\u001b[0m\n\u001b[1;37m    ^\u001b[0m\n\u001b[1;31mSyntaxError\u001b[0m\u001b[1;31m:\u001b[0m invalid syntax\n"
     ]
    }
   ],
   "source": [
    "from PyQt5.QtCore import QThread, pyqtSignal\n",
    "import sys\n",
    "sys.path.append('..\\\\model')\n",
    "from evaluator import Evaluator"
   ]
  },
  {
   "cell_type": "code",
   "execution_count": 19,
   "metadata": {},
   "outputs": [],
   "source": [
    "class ModelResponse(QThread):\n",
    "    \"\"\"Класс является оболочкой для QThread.\n",
    "    Методы класса реализуют обращение приложения\n",
    "    к обученной модели и получение результата.\n",
    "    Объекты данного класса передаются главным окном\n",
    "    для выполнения в отдельный поток.\n",
    "    \n",
    "    \"\"\"\n",
    "    TR = pyqtSignal(dict, name = \"throw_resalts\")\n",
    "    \n",
    "    def __init__(self, list1, list2):\n",
    "        \"\"\"Конструктор класса. \n",
    "        \n",
    "        \"\"\"\n",
    "        QThread.__init__(self)\n",
    "        self.list1 = list1\n",
    "        self.list2 = list2\n",
    "    \n",
    "    def __del__(self):\n",
    "        self.wait()\n",
    "\n",
    "    def run(self):\n",
    "        \"\"\"В функции создаётся объект \n",
    "        модели. Данные передаются в модель.\n",
    "        Модель возвращает результат\n",
    "        \n",
    "        \"\"\"\n",
    "        evaluator = Evaluator()   \n",
    "        evaluator.fit(self.list1, self.list2)\n",
    "        resalts = evaluator.evaluate()\n",
    "        self.throw_resalts.emit(resalts)"
   ]
  },
  {
   "cell_type": "code",
   "execution_count": null,
   "metadata": {},
   "outputs": [],
   "source": []
  },
  {
   "cell_type": "code",
   "execution_count": null,
   "metadata": {},
   "outputs": [],
   "source": []
  }
 ],
 "metadata": {
  "kernelspec": {
   "display_name": "Python 3",
   "language": "python",
   "name": "python3"
  },
  "language_info": {
   "codemirror_mode": {
    "name": "ipython",
    "version": 3
   },
   "file_extension": ".py",
   "mimetype": "text/x-python",
   "name": "python",
   "nbconvert_exporter": "python",
   "pygments_lexer": "ipython3",
   "version": "3.8.3"
  }
 },
 "nbformat": 4,
 "nbformat_minor": 4
}
